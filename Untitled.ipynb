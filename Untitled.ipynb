{
 "cells": [
  {
   "cell_type": "markdown",
   "id": "b4d4366f-78d4-461e-8ae3-f3945c9be535",
   "metadata": {},
   "source": [
    "# Assignment 5"
   ]
  },
  {
   "cell_type": "code",
   "execution_count": 28,
   "id": "f418583a-6c21-4616-9b42-01ba25b403c6",
   "metadata": {},
   "outputs": [
    {
     "data": {
      "text/plain": [
       "({'Id': 111, 'Name': 'Anas', 'Department': 'Chemistry'},\n",
       " {'Id': 112, 'Name': 'Hammas', 'Department': 'Physics'},\n",
       " {'Id': 113, 'Name': 'Asham', 'Department': 'Maths'},\n",
       " {'Id': 114, 'Name': 'Hashir', 'Department': 'English'})"
      ]
     },
     "execution_count": 28,
     "metadata": {},
     "output_type": "execute_result"
    }
   ],
   "source": [
    "#1\n",
    "\n",
    "employees = (\n",
    "    \n",
    "{\"Id\": 111, \"Name\": \"Anas\", \"Department\": \"Chemistry\"},\n",
    "{\"Id\": 112, \"Name\": \"Hammas\", \"Department\": \"Physics\"},\n",
    "{\"Id\": 113, \"Name\": \"Asham\", \"Department\": \"Maths\"},\n",
    "{\"Id\": 114, \"Name\": \"Hashir\", \"Department\": \"English\"}\n",
    "    \n",
    " )\n",
    "employees"
   ]
  },
  {
   "cell_type": "code",
   "execution_count": 24,
   "id": "39ea7c0e-1c56-42e4-8d20-715ea5168624",
   "metadata": {},
   "outputs": [
    {
     "data": {
      "text/plain": [
       "{'Id': 114, 'Name': 'Hashir', 'Department': 'English'}"
      ]
     },
     "execution_count": 24,
     "metadata": {},
     "output_type": "execute_result"
    }
   ],
   "source": [
    "employees[3]"
   ]
  },
  {
   "cell_type": "code",
   "execution_count": 25,
   "id": "fa0b175b-b7b0-4035-af69-ec8466ba062e",
   "metadata": {},
   "outputs": [
    {
     "data": {
      "text/plain": [
       "({'item_id': 1111, 'Description': 'Tang', 'Quantity': 69},\n",
       " {'item_id': 1112, 'Description': 'Sugar Packets', 'Quantity': 93},\n",
       " {'item_id': 1113, 'Description': 'Rice Packets', 'Quantity': 75},\n",
       " {'item_id': 1114, 'Description': 'Shampoo', 'Quantity': 57})"
      ]
     },
     "execution_count": 25,
     "metadata": {},
     "output_type": "execute_result"
    }
   ],
   "source": [
    "#2\n",
    "\n",
    "items_inventory = (\n",
    "    {\n",
    "        \"item_id\": 1111, \"Description\": \"Tang\", \"Quantity\": 69 \n",
    "    },\n",
    "     {\n",
    "        \"item_id\": 1112, \"Description\": \"Sugar Packets\", \"Quantity\": 93 \n",
    "    },\n",
    "     {\n",
    "        \"item_id\": 1113, \"Description\": \"Rice Packets\", \"Quantity\": 75 \n",
    "    },\n",
    "     {\n",
    "        \"item_id\": 1114, \"Description\": \"Shampoo\", \"Quantity\": 57\n",
    "    }\n",
    ")\n",
    "items_inventory"
   ]
  },
  {
   "cell_type": "code",
   "execution_count": 26,
   "id": "efabfdd2-1fbc-499d-b69d-2a0033b58db3",
   "metadata": {},
   "outputs": [
    {
     "data": {
      "text/plain": [
       "{'item_id': 1114, 'Description': 'Shampoo', 'Quantity': 57}"
      ]
     },
     "execution_count": 26,
     "metadata": {},
     "output_type": "execute_result"
    }
   ],
   "source": [
    "items_inventory[3]"
   ]
  },
  {
   "cell_type": "code",
   "execution_count": 34,
   "id": "1cdba38b-fb65-4fdc-9d46-31b5a94b9851",
   "metadata": {},
   "outputs": [
    {
     "data": {
      "text/plain": [
       "({'Date': '24th August', 'Time': '06:00pm'},\n",
       " {'Date': '26th August', 'Time': '07:00pm'},\n",
       " {'Date': '29th August', 'Time': '09:00pm'},\n",
       " {'Date': '1st September', 'Time': '06:00pm'})"
      ]
     },
     "execution_count": 34,
     "metadata": {},
     "output_type": "execute_result"
    }
   ],
   "source": [
    "#3\n",
    "\n",
    "meetings =(\n",
    "    \n",
    "{\"Date\": \"24th August\", \"Time\": \"06:00pm\"},\n",
    "{\"Date\": \"26th August\", \"Time\": \"07:00pm\"},\n",
    "{\"Date\": \"29th August\", \"Time\": \"09:00pm\"},\n",
    "{\"Date\": \"1st September\", \"Time\": \"06:00pm\"},\n",
    "\n",
    ")\n",
    "meetings\n"
   ]
  },
  {
   "cell_type": "code",
   "execution_count": 37,
   "id": "3fd653d2-8928-4f06-936e-b9847d47abde",
   "metadata": {},
   "outputs": [
    {
     "data": {
      "text/plain": [
       "{'Date': '1st September', 'Time': '06:00pm'}"
      ]
     },
     "execution_count": 37,
     "metadata": {},
     "output_type": "execute_result"
    }
   ],
   "source": [
    "meetings[3]"
   ]
  },
  {
   "cell_type": "code",
   "execution_count": 40,
   "id": "586ce3c2-063e-41b3-b580-b033015b47d7",
   "metadata": {},
   "outputs": [
    {
     "data": {
      "text/plain": [
       "{'Id': 112, 'Name': 'Hammas', 'Department': 'Physics'}"
      ]
     },
     "execution_count": 40,
     "metadata": {},
     "output_type": "execute_result"
    }
   ],
   "source": [
    "#4\n",
    "\n",
    "university = {\n",
    "\n",
    " \"1111\": {\"Id\": 111, \"Name\": \"Anas\", \"Department\": \"Chemistry\"},\n",
    " \"1112\": {\"Id\": 112, \"Name\": \"Hammas\", \"Department\": \"Physics\"},\n",
    " \"1113\": {\"Id\": 113, \"Name\": \"Asham\", \"Department\": \"Maths\"},\n",
    " \"1114\": {\"Id\": 114, \"Name\": \"Hashir\", \"Department\": \"English\"}\n",
    "    \n",
    "}\n",
    "university[\"1112\"]"
   ]
  },
  {
   "cell_type": "code",
   "execution_count": 55,
   "id": "2e3cadca-4245-4430-9c71-9c11808bf241",
   "metadata": {},
   "outputs": [
    {
     "name": "stdout",
     "output_type": "stream",
     "text": [
      "[{'Name': 'Anas', 'English': 79, 'Maths': 81, 'Physics': 87, 'PST': 93, 'Chemistry': 90}, {'Name': 'Hammas', 'English': 97, 'Maths': 80, 'Physics': 83, 'PST': 75, 'Chemistry': 90}, {'Name': 'Mansoor', 'English': 58, 'Maths': 45, 'Physics': 61, 'PST': 55, 'Chemistry': 70}, {'Name': 'Abid', 'English': 60, 'Maths': 30, 'Physics': 49, 'PST': 53, 'Chemistry': 62}]\n"
     ]
    }
   ],
   "source": [
    "#5\n",
    "\n",
    "students = [\n",
    "    {\n",
    "        \"Name\": \"Anas\",\n",
    "        \"English\": 79,\n",
    "        \"Maths\": 81, \n",
    "        \"Physics\": 87, \n",
    "        \"PST\": 93, \n",
    "        \"Chemistry\": 90,\n",
    "        \n",
    "    },\n",
    "\n",
    "    \n",
    "      {\n",
    "        \"Name\": \"Hammas\",\n",
    "        \"English\": 97,\n",
    "        \"Maths\": 80,\n",
    "        \"Physics\": 83,\n",
    "        \"PST\": 75,\n",
    "        \"Chemistry\": 90,\n",
    "        \n",
    "    },\n",
    "\n",
    "    \n",
    "  {\n",
    "        \"Name\": \"Mansoor\",\n",
    "        \"English\": 58,\n",
    "        \"Maths\": 45,\n",
    "        \"Physics\": 61,\n",
    "        \"PST\": 55,\n",
    "        \"Chemistry\": 70,\n",
    "        \n",
    "    },\n",
    "\n",
    "    \n",
    "  {\n",
    "        \"Name\": \"Abid\",\n",
    "        \"English\": 60,\n",
    "        \"Maths\": 30,\n",
    "        \"Physics\": 49,\n",
    "        \"PST\": 53,\n",
    "        \"Chemistry\": 62,\n",
    "        \n",
    "    },\n",
    "]\n",
    "print(students)"
   ]
  },
  {
   "cell_type": "code",
   "execution_count": 57,
   "id": "b1289839-7e9a-4602-b77e-0c63725f5b8b",
   "metadata": {},
   "outputs": [
    {
     "data": {
      "text/plain": [
       "87"
      ]
     },
     "execution_count": 57,
     "metadata": {},
     "output_type": "execute_result"
    }
   ],
   "source": [
    "students[0][\"Physics\"]"
   ]
  },
  {
   "cell_type": "code",
   "execution_count": 70,
   "id": "dc9782aa-719c-44f2-bf49-35c2f2501e64",
   "metadata": {},
   "outputs": [
    {
     "data": {
      "text/plain": [
       "'ReactJs'"
      ]
     },
     "execution_count": 70,
     "metadata": {},
     "output_type": "execute_result"
    }
   ],
   "source": [
    "#6\n",
    "\n",
    "Project = {\n",
    "    \"Task1\": [\"Html\", \"CSS\", \"Javascript\", \"Tailwind\", \"Bootstrap\"],\n",
    "    \"Task2\": [\"ReactJs\", \"Python\", \"Django\", \"MongoDB\",]\n",
    "    \n",
    "}\n",
    "Project[\"Task2\"][0]\n",
    "\n"
   ]
  },
  {
   "cell_type": "code",
   "execution_count": null,
   "id": "d1e7bca0-bba1-469e-b352-4d4bb38566a9",
   "metadata": {},
   "outputs": [],
   "source": []
  }
 ],
 "metadata": {
  "kernelspec": {
   "display_name": "Python 3 (ipykernel)",
   "language": "python",
   "name": "python3"
  },
  "language_info": {
   "codemirror_mode": {
    "name": "ipython",
    "version": 3
   },
   "file_extension": ".py",
   "mimetype": "text/x-python",
   "name": "python",
   "nbconvert_exporter": "python",
   "pygments_lexer": "ipython3",
   "version": "3.12.4"
  }
 },
 "nbformat": 4,
 "nbformat_minor": 5
}
